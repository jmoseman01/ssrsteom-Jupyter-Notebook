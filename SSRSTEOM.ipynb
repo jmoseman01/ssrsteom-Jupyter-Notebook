{
 "cells": [
  {
   "cell_type": "markdown",
   "id": "e63df40b",
   "metadata": {},
   "source": [
    "# Purpose"
   ]
  },
  {
   "cell_type": "markdown",
   "id": "aee9a466",
   "metadata": {},
   "source": [
    "The purpose of this Notebook is to show how my polynomial interpolation algorithm works.  I'd like people to go through this document and see if this algorithm is novel or not as I don't have a rigerous background in finite differences."
   ]
  },
  {
   "cell_type": "markdown",
   "id": "a1aa17df",
   "metadata": {},
   "source": [
    "# Running the code to solve for coeffecients of a polynomial of degree 3"
   ]
  },
  {
   "cell_type": "markdown",
   "id": "5aa72849",
   "metadata": {},
   "source": [
    "The SsrsteomTree Object takes in an output list of a polynomial you wish to resolve the coeffecients of as well\n",
    "as well as the starting x value and a delta x value.\n",
    "The case below describes the following:"
   ]
  },
  {
   "cell_type": "markdown",
   "id": "709c4108",
   "metadata": {},
   "source": [
    "| x  | p(x)   |\n",
    "| -- | -------|\n",
    "| 1.9| 68.035 |\n",
    "| 2.2| 94.000 |\n",
    "|2.5 | 126.625|\n",
    "|2.8 | 166.720|"
   ]
  },
  {
   "cell_type": "markdown",
   "id": "94c9030b",
   "metadata": {},
   "source": [
    "## This is to show what the data above look"
   ]
  },
  {
   "cell_type": "code",
   "execution_count": 72,
   "id": "5f00719d",
   "metadata": {},
   "outputs": [
    {
     "data": {
      "image/png": "[encoded data removed]",
      "text/plain": [
       "<Figure size 432x288 with 1 Axes>"
      ]
     },
     "metadata": {
      "needs_background": "light"
     },
     "output_type": "display_data"
    }
   ],
   "source": [
    "%matplotlib inline\n",
    "import matplotlib.pyplot as plt\n",
    "plt.scatter([1.9,2.2,2.5,2.8], [68.035,94.000,126.625,166.720], color='red');"
   ]
  },
  {
   "cell_type": "code",
   "execution_count": 2,
   "id": "59d7f261",
   "metadata": {},
   "outputs": [
    {
     "data": {
      "text/plain": [
       "[Decimal('5'), Decimal('4.0'), Decimal('7.00'), Decimal('6.000')]"
      ]
     },
     "execution_count": 2,
     "metadata": {},
     "output_type": "execute_result"
    }
   ],
   "source": [
    "import sys  \n",
    "sys.path.insert(0, 'C:\\\\Users\\\\jmose\\\\eclipse-workspace\\\\modern_ssrsteom\\\\ssrsteom_modern')\n",
    "\n",
    "from ssrsteom import SsrsteomTree\n",
    "from decimal import Decimal\n",
    "ssrsteom_tree = SsrsteomTree([Decimal('68.035'),Decimal('94.000'),Decimal('126.625'),Decimal('166.720')], Decimal('1.9'),Decimal('.3'))\n",
    "ssrsteom_tree.solve(ssrsteom_tree)\n",
    "ssrsteom_tree.coeffecientList"
   ]
  },
  {
   "cell_type": "markdown",
   "id": "8ceecdf3",
   "metadata": {},
   "source": [
    "### This is representative of the following polynomial."
   ]
  },
  {
   "cell_type": "markdown",
   "id": "d693872a",
   "metadata": {},
   "source": [
    "$ p(x) = 5x^3 + 4x^2 + 7x + 6 $"
   ]
  },
  {
   "cell_type": "markdown",
   "id": "c092ca89",
   "metadata": {},
   "source": [
    "If we plug the following x values into the polynomial above (1.9, 2.2, 2.5 and 2.8), you'll see the same output data we started with which was 68.035, 94, 126.625 and 166.720."
   ]
  },
  {
   "cell_type": "code",
   "execution_count": 26,
   "id": "c10087e4",
   "metadata": {},
   "outputs": [
    {
     "name": "stdout",
     "output_type": "stream",
     "text": [
      "68.035\n",
      "94.000\n",
      "126.625\n",
      "166.720\n"
     ]
    }
   ],
   "source": [
    "from decimal import Decimal\n",
    "p = lambda x: 5*x**3 + 4*x**2 + 7*x + 6\n",
    "\n",
    "print(p(Decimal('1.9')))\n",
    "print(p(Decimal('2.2')))\n",
    "print(p(Decimal('2.5')))\n",
    "print(p(Decimal('2.8')))\n"
   ]
  },
  {
   "cell_type": "markdown",
   "id": "98ac89ed",
   "metadata": {},
   "source": [
    "Here's plotting the initial scatter plot and the polynomial that hits those points."
   ]
  },
  {
   "cell_type": "code",
   "execution_count": 73,
   "id": "5cc04d71",
   "metadata": {},
   "outputs": [
    {
     "data": {
      "image/png": "[encoded data removed]",
      "text/plain": [
       "<Figure size 432x288 with 1 Axes>"
      ]
     },
     "metadata": {
      "needs_background": "light"
     },
     "output_type": "display_data"
    }
   ],
   "source": [
    "import numpy as np\n",
    "import matplotlib.pyplot as plt\n",
    "from decimal import Decimal\n",
    "xs = np.linspace(-4,4)\n",
    "p = lambda x: 5*x**3 + 4*x**2 + 7*x + 6\n",
    "px = [p(x) for x in xs]\n",
    "    \n",
    "plt.plot(xs, px)\n",
    "plt.scatter([1.9,2.2,2.5,2.8], [68.035,94.000,126.625,166.720], color='red');\n",
    "plt.grid()\n",
    "plt.show()\n"
   ]
  },
  {
   "cell_type": "markdown",
   "id": "5e8cd755",
   "metadata": {},
   "source": [
    "# Patterns I found to discover/develop this algorithm"
   ]
  },
  {
   "cell_type": "markdown",
   "id": "0b34fe9a",
   "metadata": {},
   "source": [
    "When you create deviation tree or ssrsteom tree with a degree 3 monomial withough a coeffecient you get the following results."
   ]
  },
  {
   "cell_type": "markdown",
   "id": "f0d11148",
   "metadata": {},
   "source": [
    "$ p(x) = x^3 $"
   ]
  },
  {
   "cell_type": "code",
   "execution_count": 108,
   "id": "59dd7ace",
   "metadata": {},
   "outputs": [
    {
     "name": "stdout",
     "output_type": "stream",
     "text": [
      "[1, 8, 27, 64, 125, 216, 343]\n",
      "[7, 19, 37, 61, 91, 127]\n",
      "[12, 18, 24, 30, 36]\n",
      "[6, 6, 6, 6]\n"
     ]
    }
   ],
   "source": [
    "from ssrsteom import SsrsteomTree\n",
    "from decimal import Decimal\n",
    "p = lambda x: x**3\n",
    "ssrsteom_tree = SsrsteomTree([p(x) for x in range(1,8)],1,1)\n",
    "for differenceList in ssrsteom_tree.ssrsteomList:\n",
    "        print(list(map(int,differenceList)))"
   ]
  },
  {
   "cell_type": "markdown",
   "id": "47cc0ee1",
   "metadata": {},
   "source": [
    "## initial findings and observations"
   ]
  },
  {
   "cell_type": "markdown",
   "id": "4589b845",
   "metadata": {},
   "source": [
    "I thought it was interesting that the number 6 iterating itself over and over.  This stays the same with more input points."
   ]
  },
  {
   "cell_type": "markdown",
   "id": "fb610d07",
   "metadata": {},
   "source": [
    "## looking at more monomials."
   ]
  },
  {
   "cell_type": "code",
   "execution_count": 91,
   "id": "7dd1166e",
   "metadata": {},
   "outputs": [
    {
     "name": "stdout",
     "output_type": "stream",
     "text": [
      "====================================================================================================\n",
      "degree: 0\n",
      "====================================================================================================\n",
      "[1, 1]\n",
      "====================================================================================================\n",
      "degree: 1\n",
      "====================================================================================================\n",
      "[1, 2, 3]\n",
      "[1, 1]\n",
      "====================================================================================================\n",
      "degree: 2\n",
      "====================================================================================================\n",
      "[1, 4, 9, 16]\n",
      "[3, 5, 7]\n",
      "[2, 2]\n",
      "====================================================================================================\n",
      "degree: 3\n",
      "====================================================================================================\n",
      "[1, 8, 27, 64, 125]\n",
      "[7, 19, 37, 61]\n",
      "[12, 18, 24]\n",
      "[6, 6]\n",
      "====================================================================================================\n",
      "degree: 4\n",
      "====================================================================================================\n",
      "[1, 16, 81, 256, 625, 1296]\n",
      "[15, 65, 175, 369, 671]\n",
      "[50, 110, 194, 302]\n",
      "[60, 84, 108]\n",
      "[24, 24]\n",
      "====================================================================================================\n",
      "degree: 5\n",
      "====================================================================================================\n",
      "[1, 32, 243, 1024, 3125, 7776, 16807]\n",
      "[31, 211, 781, 2101, 4651, 9031]\n",
      "[180, 570, 1320, 2550, 4380]\n",
      "[390, 750, 1230, 1830]\n",
      "[360, 480, 600]\n",
      "[120, 120]\n"
     ]
    }
   ],
   "source": [
    "from ssrsteom import SsrsteomTree\n",
    "from decimal import Decimal\n",
    "from pprint import pprint\n",
    "\n",
    "def printMonomialDifferenceList(degree):\n",
    "    p = lambda x: x**degree\n",
    "    ssrsteom_tree = SsrsteomTree([p(x) for x in range(1,degree+3)],1,1)\n",
    "    for differenceList in ssrsteom_tree.ssrsteomList:\n",
    "        print(list(map(int,differenceList)))\n",
    "\n",
    "for degree in range(0,6):\n",
    "    print(\"=\"*100)\n",
    "    print(\"degree: \" + str(degree))\n",
    "    print(\"=\"*100)\n",
    "    printMonomialDifferenceList(degree)"
   ]
  },
  {
   "cell_type": "markdown",
   "id": "f42dfe11",
   "metadata": {},
   "source": [
    "## What you notice from this data."
   ]
  },
  {
   "cell_type": "markdown",
   "id": "735444f1",
   "metadata": {},
   "source": [
    "1. The number at the bottom shows up more than once. This is the factorial of the degree\n",
    "2. The amount of initial output values that are manditory to do this are degree+1\n",
    "3. the amount of deviation levels before showing this is degree plus one."
   ]
  },
  {
   "cell_type": "code",
   "execution_count": 94,
   "id": "3bddb131",
   "metadata": {},
   "outputs": [
    {
     "name": "stdout",
     "output_type": "stream",
     "text": [
      "0 1\n",
      "1 1\n",
      "2 2\n",
      "3 6\n",
      "4 24\n",
      "5 120\n"
     ]
    }
   ],
   "source": [
    "from math import factorial\n",
    "for i in range(0,6):\n",
    "    print(i,factorial(i))"
   ]
  },
  {
   "cell_type": "markdown",
   "id": "ab779eb1",
   "metadata": {},
   "source": [
    "## Looking at what coeffecients do"
   ]
  },
  {
   "cell_type": "code",
   "execution_count": 96,
   "id": "f258d1ff",
   "metadata": {},
   "outputs": [
    {
     "name": "stdout",
     "output_type": "stream",
     "text": [
      "====================================================================================================\n",
      "degree: 0\n",
      "coeffecient: 5\n",
      "====================================================================================================\n",
      "[5, 5]\n",
      "====================================================================================================\n",
      "degree: 1\n",
      "coeffecient: 5\n",
      "====================================================================================================\n",
      "[5, 10, 15]\n",
      "[5, 5]\n",
      "====================================================================================================\n",
      "degree: 2\n",
      "coeffecient: 5\n",
      "====================================================================================================\n",
      "[5, 20, 45, 80]\n",
      "[15, 25, 35]\n",
      "[10, 10]\n",
      "====================================================================================================\n",
      "degree: 3\n",
      "coeffecient: 5\n",
      "====================================================================================================\n",
      "[5, 40, 135, 320, 625]\n",
      "[35, 95, 185, 305]\n",
      "[60, 90, 120]\n",
      "[30, 30]\n",
      "====================================================================================================\n",
      "degree: 4\n",
      "coeffecient: 5\n",
      "====================================================================================================\n",
      "[5, 80, 405, 1280, 3125, 6480]\n",
      "[75, 325, 875, 1845, 3355]\n",
      "[250, 550, 970, 1510]\n",
      "[300, 420, 540]\n",
      "[120, 120]\n",
      "====================================================================================================\n",
      "degree: 5\n",
      "coeffecient: 5\n",
      "====================================================================================================\n",
      "[5, 160, 1215, 5120, 15625, 38880, 84035]\n",
      "[155, 1055, 3905, 10505, 23255, 45155]\n",
      "[900, 2850, 6600, 12750, 21900]\n",
      "[1950, 3750, 6150, 9150]\n",
      "[1800, 2400, 3000]\n",
      "[600, 600]\n"
     ]
    }
   ],
   "source": [
    "from ssrsteom import SsrsteomTree\n",
    "from decimal import Decimal\n",
    "from pprint import pprint\n",
    "\n",
    "def printMonomialDifferenceList(coeffecient,degree):\n",
    "    p = lambda x: coeffecient*x**degree\n",
    "    ssrsteom_tree = SsrsteomTree([p(x) for x in range(1,degree+3)],1,1)\n",
    "    for differenceList in ssrsteom_tree.ssrsteomList:\n",
    "        print(list(map(int,differenceList)))\n",
    "\n",
    "for degree in range(0,6):\n",
    "    coeffecient = 5\n",
    "    print(\"=\"*100)\n",
    "    print(\"degree: \" + str(degree))\n",
    "    print(\"coeffecient: \" + str(coeffecient))\n",
    "    print(\"=\"*100)\n",
    "    printMonomialDifferenceList(coeffecient,degree)"
   ]
  },
  {
   "cell_type": "markdown",
   "id": "2e29256b",
   "metadata": {},
   "source": [
    "If you look at the previous lists and this list output you find that not only does the last term just get multiplied by 5 but also the initial output terms and all other deviation terms."
   ]
  },
  {
   "cell_type": "markdown",
   "id": "9e900313",
   "metadata": {},
   "source": [
    "You can then understand this by the distribution property."
   ]
  },
  {
   "cell_type": "markdown",
   "id": "93205b8b",
   "metadata": {},
   "source": [
    "$ Cx^d - C(x-1)^d = C(x^d - (x-1)^d) $"
   ]
  },
  {
   "cell_type": "markdown",
   "id": "dd2a8117",
   "metadata": {},
   "source": [
    "# What happens in the case of polynomials"
   ]
  },
  {
   "cell_type": "code",
   "execution_count": 98,
   "id": "6f2517bc",
   "metadata": {},
   "outputs": [
    {
     "name": "stdout",
     "output_type": "stream",
     "text": [
      "[8, 49, 154, 353, 676, 1153, 1814]\n",
      "[41, 105, 199, 323, 477, 661]\n",
      "[64, 94, 124, 154, 184]\n",
      "[30, 30, 30, 30]\n"
     ]
    }
   ],
   "source": [
    "from ssrsteom import SsrsteomTree\n",
    "from decimal import Decimal\n",
    "from pprint import pprint\n",
    "\n",
    "p = lambda x: 5*x**3 + 2*x**2 + 1\n",
    "ssrsteom_tree = SsrsteomTree([p(x) for x in range(1,degree+3)],1,1)\n",
    "for differenceList in ssrsteom_tree.ssrsteomList:\n",
    "    print(list(map(int,differenceList)))"
   ]
  },
  {
   "cell_type": "markdown",
   "id": "61495acc",
   "metadata": {},
   "source": [
    "What you notice is that 30 stays the same."
   ]
  },
  {
   "cell_type": "code",
   "execution_count": 102,
   "id": "b0fa8a63",
   "metadata": {},
   "outputs": [
    {
     "name": "stdout",
     "output_type": "stream",
     "text": [
      "[5, 40, 135, 320, 625, 1080, 1715]\n",
      "[35, 95, 185, 305, 455, 635]\n",
      "[60, 90, 120, 150, 180]\n",
      "[30, 30, 30, 30]\n",
      "====================================================================================================\n",
      "[2, 8, 18, 32, 50, 72, 98]\n",
      "[6, 10, 14, 18, 22, 26]\n",
      "[4, 4, 4, 4, 4]\n",
      "====================================================================================================\n",
      "[1, 1, 1, 1, 1, 1, 1]\n",
      "====================================================================================================\n",
      "[8, 49, 154, 353, 676, 1153, 1814]\n",
      "[41, 105, 199, 323, 477, 661]\n",
      "[64, 94, 124, 154, 184]\n",
      "[30, 30, 30, 30]\n"
     ]
    }
   ],
   "source": [
    "def printListForMonomial(p):\n",
    "    ssrsteom_tree = SsrsteomTree([p(x) for x in range(1,degree+3)],1,1)\n",
    "    for differenceList in ssrsteom_tree.ssrsteomList:\n",
    "        print(list(map(int,differenceList)))\n",
    "    \n",
    "\n",
    "printListForMonomial(lambda x: 5*x**3)\n",
    "print('='*100)\n",
    "printListForMonomial(lambda x: 2*x**2)\n",
    "print('='*100)\n",
    "printListForMonomial(lambda x: 1)\n",
    "\n",
    "print(\"=\"*100)\n",
    "printListForMonomial(lambda x: 5*x**3 + 2*x**2 + 1)\n"
   ]
  },
  {
   "cell_type": "markdown",
   "id": "b46ba6dd",
   "metadata": {},
   "source": [
    "This is what we got for $ 5x^3 $\n",
    "\n",
    "```python\n",
    "[5, 40, 135, 320, 625]\n",
    "[35, 95, 185, 305]\n",
    "[60, 90, 120]\n",
    "[30, 30]\n",
    "```\n",
    "\n",
    "$ 2x^2 $\n",
    "\n",
    "```python\n",
    "[2, 8, 18, 32, 50, 72, 98]\n",
    "[6, 10, 14, 18, 22, 26]\n",
    "[4, 4, 4, 4, 4]\n",
    "```\n",
    "\n",
    "This is what we got for $ 5x^3 + 2x^2 + 1 $\n",
    "\n",
    "```python\n",
    "[8, 49, 154, 353, 676, 1153, 1814]\n",
    "[41, 105, 199, 323, 477, 661]\n",
    "[64, 94, 124, 154, 184]\n",
    "[30, 30, 30, 30]\n",
    "```"
   ]
  },
  {
   "cell_type": "markdown",
   "id": "367c4149",
   "metadata": {},
   "source": [
    "The next thing you notice with polynomials is that the sum of deviation at the same deviation level \n",
    "\n"
   ]
  },
  {
   "cell_type": "markdown",
   "id": "0b783fe7",
   "metadata": {},
   "source": [
    "$ [41, 105, 199, 323] = [35+6=41,95+10=105,185+14=199,305+18=323]$"
   ]
  },
  {
   "cell_type": "markdown",
   "id": "4770ad7e",
   "metadata": {},
   "source": [
    "# So knowing all this how do you make a polynomial interpolation algorithm?"
   ]
  },
  {
   "cell_type": "markdown",
   "id": "26b93b86",
   "metadata": {},
   "source": [
    "$ levels \\space of \\space deviation - 1 = degree $ "
   ]
  },
  {
   "cell_type": "markdown",
   "id": "069666f8",
   "metadata": {},
   "source": [
    "$ d = degree \\space of \\space polynomial $  \n",
    "\n",
    "$ last \\space term = C_{d}*\\Delta x^{d} * d!  $"
   ]
  },
  {
   "cell_type": "markdown",
   "id": "174ef5e1",
   "metadata": {},
   "source": [
    "$ C_{d} = \\frac{last \\space term}{\\Delta x^{d} * d! } $"
   ]
  },
  {
   "cell_type": "markdown",
   "id": "169732a5",
   "metadata": {},
   "source": [
    "## You can subtract the polynomial and the highest coeffecient terms recursively to resolve all coeffecients"
   ]
  },
  {
   "cell_type": "code",
   "execution_count": 157,
   "id": "da909d88",
   "metadata": {},
   "outputs": [
    {
     "name": "stdout",
     "output_type": "stream",
     "text": [
      "5 3\n",
      "2 2\n",
      "1 0\n"
     ]
    }
   ],
   "source": [
    "import numpy as np\n",
    "from ssrsteom import SsrsteomTree\n",
    "from decimal import Decimal\n",
    "from math import factorial\n",
    "\n",
    "def findHighestCoeffecient(output_list):\n",
    "    initial_polynomial_output = np.array(output_list)\n",
    "    polynomial_ssrsteom_tree = SsrsteomTree(list(map(int,list(initial_polynomial_output))),1,1)\n",
    "    last_term = polynomial_ssrsteom_tree.ssrsteomList[polynomial_ssrsteom_tree.highest_level-1][0]\n",
    "    polynomial_coeffecient = last_term/(1*factorial(polynomial_ssrsteom_tree.highest_degree))\n",
    "    return polynomial_coeffecient, polynomial_ssrsteom_tree.highest_degree\n",
    "\n",
    "def successivePolynomialList(initial_polynomial_output, highest_coeffecient_of_polynomial, degree_of_polynomial):\n",
    "    p = lambda x: highest_coeffecient_of_polynomial*x**degree_of_polynomial\n",
    "    highest_monomial_output = np.array([p(x) for x in range(1,6)])\n",
    "    return np.subtract(initial_polynomial_output, highest_monomial_output)\n",
    "    \n",
    "initial_polynomial_output = [8, 49, 154, 353, 676]\n",
    "\n",
    "\n",
    "highest_coeffecient_of_polynomial, degree_of_polynomial = findHighestCoeffecient(initial_polynomial_output)\n",
    "print(highest_coeffecient_of_polynomial, degree_of_polynomial)\n",
    "\n",
    "successive_part_of_the_polynomial = successivePolynomialList(initial_polynomial_output,highest_coeffecient_of_polynomial,degree_of_polynomial)\n",
    "\n",
    "highest_coeffecient_polynomial_successive, successive_degree_of_polynomial = findHighestCoeffecient(successive_part_of_the_polynomial)\n",
    "print(highest_coeffecient_polynomial_successive, successive_degree_of_polynomial)\n",
    "\n",
    "\n",
    "successive_part_of_the_polynomial_2 = successivePolynomialList(successive_part_of_the_polynomial,highest_coeffecient_polynomial_successive,successive_degree_of_polynomial)\n",
    "highest_coeffecient_polynomial_successive_2, next_successive_degree_of_polynomial = findHighestCoeffecient(successive_part_of_the_polynomial_2)\n",
    "\n",
    "print(highest_coeffecient_polynomial_successive_2, next_successive_degree_of_polynomial)\n",
    "\n",
    "\n"
   ]
  },
  {
   "cell_type": "markdown",
   "id": "7a2fb315",
   "metadata": {},
   "source": [
    "This is saying: \n",
    "* degree 3 monmial in the coeffecient is 5\n",
    "* degree 2 monmial in the coeffecient is 2\n",
    "* degree 0 monmial in the coeffecient is 1"
   ]
  },
  {
   "cell_type": "markdown",
   "id": "ddd9e393",
   "metadata": {},
   "source": [
    "$ 5x^3 + 2x^2 + 1 $"
   ]
  },
  {
   "cell_type": "markdown",
   "id": "3dca1172",
   "metadata": {},
   "source": [
    "## Final code implmenting the deviation and solve method"
   ]
  },
  {
   "cell_type": "code",
   "execution_count": 156,
   "id": "8861ed26",
   "metadata": {},
   "outputs": [],
   "source": [
    "'''\n",
    "Created on Nov 13, 2021\n",
    "\n",
    "@author: jmose\n",
    "'''\n",
    "from math import factorial\n",
    "from decimal import Decimal\n",
    "\n",
    "\n",
    "class SsrsteomTree(object):\n",
    "\n",
    "    def __init__(self, initial_output_list, start_x_value, delta_x):\n",
    "        initial_output_list = list(map(Decimal, initial_output_list))\n",
    "        self.ssrsteomList = []\n",
    "        self.coeffecientList = []\n",
    "        self.deltax = delta_x\n",
    "        self.highest_level = 0\n",
    "        self.start_x_value = start_x_value\n",
    "        self.genTree(initial_output_list)\n",
    "        self.highest_degree = self.highest_level - 1\n",
    "        self.coeffecient_of_highest_degree = self.terminatingEntity / \\\n",
    "            (Decimal(self.deltax) ** self.highest_degree *\n",
    "             factorial(self.highest_degree))\n",
    "\n",
    "    def genTree(self, ssrsteom_tree_row):\n",
    "        self.highest_level += 1\n",
    "        self.ssrsteomList.append(ssrsteom_tree_row)\n",
    "\n",
    "        # this is purely to see if there is an the term that iterates itself\n",
    "        # over and over\n",
    "        ssrsteom_tree_row_set = set(ssrsteom_tree_row)\n",
    "\n",
    "        if len(ssrsteom_tree_row_set) == 0:\n",
    "            raise Exception(\"SSRSTEOM tree row passed is of size 0\")\n",
    "        elif len(ssrsteom_tree_row_set) == 1:\n",
    "            self.terminatingEntity = ssrsteom_tree_row_set.pop()\n",
    "        else:\n",
    "            next_row = []\n",
    "            for i in range(0, len(ssrsteom_tree_row) - 1):\n",
    "                difference_quotient = ssrsteom_tree_row[i +\n",
    "                                                        1] - ssrsteom_tree_row[i]\n",
    "                next_row.append(difference_quotient)\n",
    "            next_row = list(map(Decimal, next_row))\n",
    "            self.genTree(next_row)\n",
    "\n",
    "    def solve(self, localSsrsteomTree):\n",
    "        self.coeffecientList.append(\n",
    "            localSsrsteomTree.coeffecient_of_highest_degree)\n",
    "        successive_polynomial_list = []\n",
    "\n",
    "        for i in range(len(localSsrsteomTree.ssrsteomList[0])):\n",
    "            next_val = localSsrsteomTree.coeffecient_of_highest_degree * \\\n",
    "                Decimal(str(localSsrsteomTree.start_x_value + i *\n",
    "                        localSsrsteomTree.deltax))**localSsrsteomTree.highest_degree\n",
    "            successive_polynomial_list.append(\n",
    "                localSsrsteomTree.ssrsteomList[0][i] - next_val)\n",
    "\n",
    "        nextDegreeTree = SsrsteomTree(\n",
    "            successive_polynomial_list,\n",
    "            self.start_x_value,\n",
    "            self.deltax)\n",
    "        degreeDeviation = localSsrsteomTree.highest_degree - nextDegreeTree.highest_degree\n",
    "        if degreeDeviation > 1:\n",
    "            for i in range(degreeDeviation - 1):\n",
    "                self.coeffecientList.append(0)\n",
    "        if len(localSsrsteomTree.ssrsteomList) > 1:\n",
    "            self.solve(nextDegreeTree)"
   ]
  },
  {
   "cell_type": "code",
   "execution_count": null,
   "id": "f51a7d01",
   "metadata": {},
   "outputs": [],
   "source": []
  }
 ],
 "metadata": {
  "kernelspec": {
   "display_name": "Python 3",
   "language": "python",
   "name": "python3"
  },
  "language_info": {
   "codemirror_mode": {
    "name": "ipython",
    "version": 3
   },
   "file_extension": ".py",
   "mimetype": "text/x-python",
   "name": "python",
   "nbconvert_exporter": "python",
   "pygments_lexer": "ipython3",
   "version": "3.8.8"
  }
 },
 "nbformat": 4,
 "nbformat_minor": 5
}
